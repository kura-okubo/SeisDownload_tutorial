{
 "cells": [
  {
   "cell_type": "markdown",
   "metadata": {},
   "source": [
    "# SeisDownload Tutorial\n",
    "#### June 6 2019"
   ]
  },
  {
   "cell_type": "markdown",
   "metadata": {},
   "source": [
    "## Installation\n",
    "1. IJulia to run Julia with Jupyter notebook\n",
    "\n",
    "If you get warning when opening this notebook, you may miss \"IJulia\". Please open your terminal and open julia shell, then type as following:\n",
    "\n",
    "**`Pkg.add` command will fail from this notebook. Please use Julia REPL.**"
   ]
  },
  {
   "cell_type": "code",
   "execution_count": 14,
   "metadata": {},
   "outputs": [
    {
     "name": "stdout",
     "output_type": "stream",
     "text": [
      "\u001b[32m\u001b[1m Resolving\u001b[22m\u001b[39m package versions...\n",
      "\u001b[32m\u001b[1m  Updating\u001b[22m\u001b[39m `~/.julia/environments/v1.1/Project.toml`\n",
      "\u001b[90m [no changes]\u001b[39m\n",
      "\u001b[32m\u001b[1m  Updating\u001b[22m\u001b[39m `~/.julia/environments/v1.1/Manifest.toml`\n",
      "\u001b[90m [no changes]\u001b[39m\n"
     ]
    }
   ],
   "source": [
    "using Pkg; Pkg.add(\"IJulia\");"
   ]
  },
  {
   "cell_type": "markdown",
   "metadata": {},
   "source": [
    "2. Dependent packages"
   ]
  },
  {
   "cell_type": "code",
   "execution_count": 2,
   "metadata": {},
   "outputs": [
    {
     "name": "stdout",
     "output_type": "stream",
     "text": [
      "\u001b[32m\u001b[1m  Updating\u001b[22m\u001b[39m git-repo `https://github.com/jpjones76/SeisIO.jl`\n",
      "\u001b[?25l\u001b[2K\u001b[?25h\u001b[32m\u001b[1m Resolving\u001b[22m\u001b[39m package versions...\n",
      "\u001b[32m\u001b[1m  Updating\u001b[22m\u001b[39m `~/.julia/environments/v1.1/Project.toml`\n",
      "\u001b[90m [no changes]\u001b[39m\n",
      "\u001b[32m\u001b[1m  Updating\u001b[22m\u001b[39m `~/.julia/environments/v1.1/Manifest.toml`\n",
      "\u001b[90m [no changes]\u001b[39m\n",
      "\u001b[32m\u001b[1m Resolving\u001b[22m\u001b[39m package versions...\n",
      "\u001b[32m\u001b[1m  Updating\u001b[22m\u001b[39m `~/.julia/environments/v1.1/Project.toml`\n",
      "\u001b[90m [no changes]\u001b[39m\n",
      "\u001b[32m\u001b[1m  Updating\u001b[22m\u001b[39m `~/.julia/environments/v1.1/Manifest.toml`\n",
      "\u001b[90m [no changes]\u001b[39m\n"
     ]
    }
   ],
   "source": [
    "using Pkg; Pkg.pkg\"add https://github.com/jpjones76/SeisIO.jl;\";\n",
    "Pkg.add([\"Dates\", \"Distributed\", \"Printf\", \"JLD2\", \"FileIO\", \"ProgressMeter\", \"Suppressor\"]);"
   ]
  },
  {
   "cell_type": "markdown",
   "metadata": {},
   "source": [
    "3. Obspy\n",
    "\n",
    "Follow the official instruction [Link](https://github.com/obspy/obspy/wiki/Installation-via-Anaconda).\n",
    "After installing anaconda with brew or other package manager (e.g. pyenv), type on terminal:\n",
    "> conda config --add channels conda-forge <br>\n",
    "conda create -n obspy python=3.7   # or e.g. python=2.7 <br>\n",
    "conda activate obspy  # this command used to be 'source activate obspy' on older conda versions < 4.4 <br>\n",
    "(obspy) conda install obspy\n",
    "\n",
    "**Use SeisDownload with activating obspy enviroment due to the dependency of resp removal for $\\beta$ version**  "
   ]
  },
  {
   "cell_type": "markdown",
   "metadata": {},
   "source": [
    "4. Pycall with obspy enviroment\n",
    "\n",
    "Firstly, type `which python` with obspy enviroment and copy the link to the python. \n",
    "\n",
    "(usually in $path-to-anaconda-package/anaconda3-5.x.x/envs/obspy/bin/python)\n",
    "\n",
    "Then,"
   ]
  },
  {
   "cell_type": "code",
   "execution_count": 3,
   "metadata": {},
   "outputs": [
    {
     "ename": "LoadError",
     "evalue": "syntax: extra token \"\"\" after end of expression",
     "output_type": "error",
     "traceback": [
      "syntax: extra token \"\"\" after end of expression",
      ""
     ]
    }
   ],
   "source": [
    "type \"]\",then add Pycall\n",
    "ENV[\"PYTHON\"] = \"$path-to-anaconda-package/anaconda3-5.x.x/envs/obspy/bin/python\" # python 2.x may cause a problem; try python 3.x\n",
    "Pkg.build(\"PyCall\")"
   ]
  },
  {
   "cell_type": "markdown",
   "metadata": {},
   "source": [
    "You are now all set!"
   ]
  },
  {
   "cell_type": "markdown",
   "metadata": {},
   "source": [
    "## Example to donwload data"
   ]
  },
  {
   "cell_type": "code",
   "execution_count": 4,
   "metadata": {},
   "outputs": [
    {
     "name": "stderr",
     "output_type": "stream",
     "text": [
      "┌ Info: Recompiling stale cache file /Users/kurama/.julia/compiled/v1.1/SeisIO/P86QT.ji for SeisIO [b372bb87-02dd-52bb-bcf6-c30dd83fd342]\n",
      "└ @ Base loading.jl:1184\n",
      "┌ Info: Recompiling stale cache file /Users/kurama/.julia/compiled/v1.1/PyCall/GkzkC.ji for PyCall [438e738f-606a-5dbb-bf0a-cddfbfd45ab0]\n",
      "└ @ Base loading.jl:1184\n"
     ]
    }
   ],
   "source": [
    "# with β version, please import SeisDownload.jl from the src directory as follows\n",
    "include(\"./src/SeisDownload.jl\")\n",
    "using .SeisDownload"
   ]
  },
  {
   "cell_type": "code",
   "execution_count": 5,
   "metadata": {},
   "outputs": [],
   "source": [
    "using SeisIO, Dates, Distributed\n",
    "\n",
    "#==================================================#\n",
    "# Input Parameters\n",
    "NP = 3 # number of processor\n",
    "DownloadType = \"Noise\" # Choise of \"Noise\" or \"Earthquake\"\n",
    "\n",
    "network     = [\"BP\"]\n",
    "station     = [\"LCCB\", \"MMNB\"]\n",
    "location    = [\"\"]\n",
    "channel     = [\"BP1\", \"BP2\"]\n",
    "datacenter  = \"FDSN\" #Data center\n",
    "src         = \"NCEDC\"\n",
    "\n",
    "# Time info for Noise case\n",
    "starttime   = DateTime(2004,9,28,16,0,0)\n",
    "endtime     = DateTime(2004,9,28,19,0,0)\n",
    "DL_time_unit = 3600 #3600 * 24 # Download tiem unit [s] more than one day is better to avoid artifacts of response removal\n",
    "\n",
    "pre_filt    = (0.001, 0.002, 10.0, 20.0) #prefilter tuple used obspy remove_response: taper between f1 and f2, f3 and f4 with obspy\n",
    "\n",
    "foname      = \"BPnetwork\"; # data is saved at ./dataset/$foname.jld2\n",
    "#==================================================#"
   ]
  },
  {
   "cell_type": "code",
   "execution_count": 6,
   "metadata": {},
   "outputs": [
    {
     "name": "stderr",
     "output_type": "stream",
     "text": [
      "WARNING: replacing module SeisDownload.\n"
     ]
    }
   ],
   "source": [
    "# allocate cpus\n",
    "addprocs(NP-1)\n",
    "\n",
    "@everywhere include(\"./src/SeisDownload.jl\")\n",
    "@everywhere include(\"./src/utils.jl\")\n",
    "#using SeisIO, Dates, SeisDownload\n",
    "@everywhere using .SeisDownload, .Utils"
   ]
  },
  {
   "cell_type": "code",
   "execution_count": 7,
   "metadata": {},
   "outputs": [
    {
     "data": {
      "text/plain": [
       "Dict{String,Any} with 7 entries:\n",
       "  \"pre_filt\"     => (0.001, 0.002, 10.0, 20.0)\n",
       "  \"stationinfo\"  => Dict(\"stationdatacenter\"=>[\"FDSN\", \"FDSN\", \"FDSN\", \"FDSN\"],…\n",
       "  \"DownloadType\" => \"Noise\"\n",
       "  \"starttime\"    => 2004-09-28T16:00:00\n",
       "  \"endtime\"      => 2004-09-28T19:00:00\n",
       "  \"fopath\"       => \"./dataset/BPnetwork.jld2\"\n",
       "  \"DL_time_unit\" => 3600"
      ]
     },
     "execution_count": 7,
     "metadata": {},
     "output_type": "execute_result"
    }
   ],
   "source": [
    "# store metadata in Dictionary\n",
    "# This can be customized by users\n",
    "\n",
    "stationlist       = String[]\n",
    "stationdatacenter = String[]\n",
    "stationsrc        = String[]\n",
    "for i=1:length(network)\n",
    "    for j=1:length(station)\n",
    "        for k=1:length(location)\n",
    "            for l=1:length(channel)\n",
    "                stationname = join([network[i], station[j], location[k], channel[l]], \".\")\n",
    "                push!(stationlist, stationname)\n",
    "\n",
    "                #Here should be improved for multiple seismic network; we have to make\n",
    "                #proper conbination of request station and data server.\n",
    "                push!(stationdatacenter, datacenter)\n",
    "                push!(stationsrc, src)\n",
    "            end\n",
    "        end\n",
    "    end\n",
    "end\n",
    "\n",
    "stationinfo = Dict([\"stationlist\" => stationlist, \"stationdatacenter\" => stationdatacenter, \"stationsrc\" => stationsrc])\n",
    "\n",
    "mkpath(\"./dataset\")\n",
    "fopath=(\"./dataset/\"*foname*\".jld2\")\n",
    "\n",
    "InputDictionary = Dict([\n",
    "      \"DownloadType\"=> DownloadType,\n",
    "      \"stationinfo\" => stationinfo,\n",
    "      \"starttime\"   => starttime,\n",
    "      \"endtime\"     => endtime,\n",
    "      \"DL_time_unit\"=> DL_time_unit,\n",
    "      \"pre_filt\"    => pre_filt,\n",
    "      \"fopath\"      => fopath\n",
    "    ])"
   ]
  },
  {
   "cell_type": "code",
   "execution_count": 17,
   "metadata": {},
   "outputs": [
    {
     "data": {
      "text/plain": [
       "Dict{String,Array{String,1}} with 3 entries:\n",
       "  \"stationdatacenter\" => [\"FDSN\", \"FDSN\", \"FDSN\", \"FDSN\"]\n",
       "  \"stationlist\"       => [\"BP.LCCB..BP1\", \"BP.LCCB..BP2\", \"BP.MMNB..BP1\", \"BP.M…\n",
       "  \"stationsrc\"        => [\"NCEDC\", \"NCEDC\", \"NCEDC\", \"NCEDC\"]"
      ]
     },
     "execution_count": 17,
     "metadata": {},
     "output_type": "execute_result"
    }
   ],
   "source": [
    "InputDictionary\n",
    "InputDictionary[\"stationinfo\"]"
   ]
  },
  {
   "cell_type": "code",
   "execution_count": 8,
   "metadata": {},
   "outputs": [
    {
     "name": "stdout",
     "output_type": "stream",
     "text": [
      "\n",
      "\n",
      "      _____        _       _____                          _                    _\n",
      "     / ____|      (_)     |  __ \\                        | |                  | |\n",
      "    | (___    ___  _  ___ | |  | |  ___ __      __ _ __  | |  ___    __ _   __| |\n",
      "     \\___ \\  / _ \\| |/ __|| |  | | / _ \\\\ \\ /\\ / /| '_ \\ | | / _ \\  / _` | / _` |\n",
      "     ____) ||  __/| |\\__ \\| |__| || (_) |\\ V  V / | | | || || (_) || (_| || (_| |\n",
      "    |_____/  \\___||_||___/|_____/  \\___/  \\_/\\_/  |_| |_||_| \\___/  \\__,_| \\__,_|\n",
      "                      _         _  _\n",
      "                     | |       | |(_)           |\n",
      "    __      __       | | _   _ | | _   __ _     | v1.0 (Last update 06/06/2019)\n",
      "    \\ \\ /\\ / /   _   | || | | || || | / _` |    | © Kurama Okubo\n",
      "     \\ V  V /_  | |__| || |_| || || || (_| |    |\n",
      "      \\_/\\_/(_)  \\____/  \\__,_||_||_| \\__,_|    |\n",
      "\n",
      "Job start running at 2019-06-07T12:08:38.404\n",
      "\n",
      "Downloading and Saving data is successfully done.\n",
      "job ended at 2019-06-07T12:09:52.262\n"
     ]
    }
   ],
   "source": [
    "# mass request with input Dictionary\n",
    "SeisDownload.ParallelSeisrequest(NP, InputDictionary)"
   ]
  },
  {
   "cell_type": "markdown",
   "metadata": {},
   "source": [
    "Now downloaded dataset is in `./dataset`. The dataset is in SeisData format. Only instrumental response removal is applied on the data.\n",
    "\n",
    "### Plot results "
   ]
  },
  {
   "cell_type": "code",
   "execution_count": 9,
   "metadata": {},
   "outputs": [
    {
     "data": {
      "text/plain": [
       "JLDFile /Users/kurama/Documents/kurama/research/SeisDownload_tutorial/dataset/BPnetwork.jld2 (read-only)\n",
       " ├─📂 info\n",
       " │  ├─🔢 DLtimestamplist\n",
       " │  ├─🔢 stationlist\n",
       " │  ├─🔢 starttime\n",
       " │  ├─🔢 endtime\n",
       " │  └─🔢 DL_time_unit\n",
       " ├─📂 2004.272.T16:00:00\n",
       " │  ├─🔢 BP.LCCB..BP1\n",
       " │  ├─🔢 BP.LCCB..BP2\n",
       " │  ├─🔢 BP.MMNB..BP1\n",
       " │  └─🔢 BP.MMNB..BP2\n",
       " ├─📂 2004.272.T17:00:00\n",
       " │  ├─🔢 BP.LCCB..BP1\n",
       " │  ├─🔢 BP.LCCB..BP2\n",
       " │  ├─🔢 BP.MMNB..BP1\n",
       " │  └─🔢 BP.MMNB..BP2\n",
       " ├─📂 2004.272.T18:00:00\n",
       " │  ├─🔢 BP.LCCB..BP1\n",
       " │  ├─🔢 BP.LCCB..BP2\n",
       " │  ├─🔢 BP.MMNB..BP1\n",
       " │  └─🔢 BP.MMNB..BP2\n",
       " └─📂 2004.272.T19:00:00\n",
       "    ├─🔢 BP.LCCB..BP1\n",
       "    ├─🔢 BP.LCCB..BP2\n",
       "    ├─🔢 BP.MMNB..BP1\n",
       "    └─🔢 BP.MMNB..BP2"
      ]
     },
     "execution_count": 9,
     "metadata": {},
     "output_type": "execute_result"
    }
   ],
   "source": [
    "using JLD2, FileIO\n",
    "t = jldopen(\"./dataset/BPnetwork.jld2\")"
   ]
  },
  {
   "cell_type": "code",
   "execution_count": 19,
   "metadata": {},
   "outputs": [
    {
     "data": {
      "text/plain": [
       "SeisChannel with 72000 samples\n",
       "    ID: BP.LCCB..BP1\n",
       "  NAME: Little Cholame Creek, Parkfield, CA, USA\n",
       "   LOC: 35.9801 N, -120.514 E, 637.0 m\n",
       "    FS: 20.0\n",
       "  GAIN: 7.18559e10\n",
       "  RESP: c = 1.0, 2 zeros, 2 poles\n",
       " UNITS: M/S\n",
       "   SRC: http://service.ncedc.org/fdsnws/dataselect/1/query\n",
       "  MISC: 2 entries\n",
       " NOTES: 1 entries\n",
       "     T: 2004-09-28T19:00:00.020 (0 gaps)    \n",
       "     X: +4.492e-07                          \n",
       "        +4.481e-07                          \n",
       "            ...                             \n",
       "        -6.019e-07                          \n",
       "        (nx = 72000)                        "
      ]
     },
     "execution_count": 19,
     "metadata": {},
     "output_type": "execute_result"
    }
   ],
   "source": [
    "t[\"info/DLtimestamplist\"]\n",
    "S = t[\"2004.272.T19:00:00/BP.LCCB..BP1\"]"
   ]
  },
  {
   "cell_type": "code",
   "execution_count": 28,
   "metadata": {},
   "outputs": [],
   "source": [
    "plotstationid = t[\"info/stationlist\"][1];\n",
    "plottimestamp = t[\"info/DLtimestamplist\"][2];"
   ]
  },
  {
   "cell_type": "code",
   "execution_count": 29,
   "metadata": {},
   "outputs": [
    {
     "data": {
      "text/plain": [
       "SeisChannel with 72000 samples\n",
       "    ID: BP.LCCB..BP1\n",
       "  NAME: Little Cholame Creek, Parkfield, CA, USA\n",
       "   LOC: 35.9801 N, -120.514 E, 637.0 m\n",
       "    FS: 20.0\n",
       "  GAIN: 7.18559e10\n",
       "  RESP: c = 1.0, 2 zeros, 2 poles\n",
       " UNITS: M/S\n",
       "   SRC: http://service.ncedc.org/fdsnws/dataselect/1/query\n",
       "  MISC: 2 entries\n",
       " NOTES: 1 entries\n",
       "     T: 2004-09-28T17:00:00.020 (0 gaps)    \n",
       "     X: +1.126e-05                          \n",
       "        +1.122e-05                          \n",
       "            ...                             \n",
       "        +3.005e-05                          \n",
       "        (nx = 72000)                        "
      ]
     },
     "execution_count": 29,
     "metadata": {},
     "output_type": "execute_result"
    }
   ],
   "source": [
    "S = t[joinpath(plottimestamp, plotstationid)]"
   ]
  },
  {
   "cell_type": "code",
   "execution_count": 30,
   "metadata": {},
   "outputs": [],
   "source": [
    "using Plots; gr()\n",
    "tvec = collect(0:S.t[2,1]-1) / S.fs;"
   ]
  },
  {
   "cell_type": "code",
   "execution_count": 31,
   "metadata": {},
   "outputs": [
    {
     "data": {
      "image/svg+xml": [
       "<?xml version=\"1.0\" encoding=\"utf-8\"?>\n",
       "<svg xmlns=\"http://www.w3.org/2000/svg\" xmlns:xlink=\"http://www.w3.org/1999/xlink\" width=\"600\" height=\"400\" viewBox=\"0 0 2400 1600\">\n",
       "<defs>\n",
       "  <clipPath id=\"clip3900\">\n",
       "    <rect x=\"0\" y=\"0\" width=\"2000\" height=\"2000\"/>\n",
       "  </clipPath>\n",
       "</defs>\n",
       "<defs>\n",
       "  <clipPath id=\"clip3901\">\n",
       "    <rect x=\"0\" y=\"0\" width=\"2400\" height=\"1600\"/>\n",
       "  </clipPath>\n",
       "</defs>\n",
       "<polygon clip-path=\"url(#clip3901)\" points=\"\n",
       "0,1600 2400,1600 2400,0 0,0 \n",
       "  \" fill=\"#ffffff\" fill-rule=\"evenodd\" fill-opacity=\"1\"/>\n",
       "<defs>\n",
       "  <clipPath id=\"clip3902\">\n",
       "    <rect x=\"480\" y=\"0\" width=\"1681\" height=\"1600\"/>\n",
       "  </clipPath>\n",
       "</defs>\n",
       "<polygon clip-path=\"url(#clip3901)\" points=\"\n",
       "214.919,1503.47 2321.26,1503.47 2321.26,47.2441 214.919,47.2441 \n",
       "  \" fill=\"#ffffff\" fill-rule=\"evenodd\" fill-opacity=\"1\"/>\n",
       "<defs>\n",
       "  <clipPath id=\"clip3903\">\n",
       "    <rect x=\"214\" y=\"47\" width=\"2107\" height=\"1457\"/>\n",
       "  </clipPath>\n",
       "</defs>\n",
       "<polyline clip-path=\"url(#clip3903)\" style=\"stroke:#000000; stroke-width:2; stroke-opacity:0.1; fill:none\" points=\"\n",
       "  274.532,1503.47 274.532,47.2441 \n",
       "  \"/>\n",
       "<polyline clip-path=\"url(#clip3903)\" style=\"stroke:#000000; stroke-width:2; stroke-opacity:0.1; fill:none\" points=\"\n",
       "  827.276,1503.47 827.276,47.2441 \n",
       "  \"/>\n",
       "<polyline clip-path=\"url(#clip3903)\" style=\"stroke:#000000; stroke-width:2; stroke-opacity:0.1; fill:none\" points=\"\n",
       "  1380.02,1503.47 1380.02,47.2441 \n",
       "  \"/>\n",
       "<polyline clip-path=\"url(#clip3903)\" style=\"stroke:#000000; stroke-width:2; stroke-opacity:0.1; fill:none\" points=\"\n",
       "  1932.76,1503.47 1932.76,47.2441 \n",
       "  \"/>\n",
       "<polyline clip-path=\"url(#clip3903)\" style=\"stroke:#000000; stroke-width:2; stroke-opacity:0.1; fill:none\" points=\"\n",
       "  214.919,1235.55 2321.26,1235.55 \n",
       "  \"/>\n",
       "<polyline clip-path=\"url(#clip3903)\" style=\"stroke:#000000; stroke-width:2; stroke-opacity:0.1; fill:none\" points=\"\n",
       "  214.919,871.051 2321.26,871.051 \n",
       "  \"/>\n",
       "<polyline clip-path=\"url(#clip3903)\" style=\"stroke:#000000; stroke-width:2; stroke-opacity:0.1; fill:none\" points=\"\n",
       "  214.919,506.552 2321.26,506.552 \n",
       "  \"/>\n",
       "<polyline clip-path=\"url(#clip3903)\" style=\"stroke:#000000; stroke-width:2; stroke-opacity:0.1; fill:none\" points=\"\n",
       "  214.919,142.052 2321.26,142.052 \n",
       "  \"/>\n",
       "<polyline clip-path=\"url(#clip3901)\" style=\"stroke:#000000; stroke-width:4; stroke-opacity:1; fill:none\" points=\"\n",
       "  214.919,1503.47 2321.26,1503.47 \n",
       "  \"/>\n",
       "<polyline clip-path=\"url(#clip3901)\" style=\"stroke:#000000; stroke-width:4; stroke-opacity:1; fill:none\" points=\"\n",
       "  214.919,1503.47 214.919,47.2441 \n",
       "  \"/>\n",
       "<polyline clip-path=\"url(#clip3901)\" style=\"stroke:#000000; stroke-width:4; stroke-opacity:1; fill:none\" points=\"\n",
       "  274.532,1503.47 274.532,1481.63 \n",
       "  \"/>\n",
       "<polyline clip-path=\"url(#clip3901)\" style=\"stroke:#000000; stroke-width:4; stroke-opacity:1; fill:none\" points=\"\n",
       "  827.276,1503.47 827.276,1481.63 \n",
       "  \"/>\n",
       "<polyline clip-path=\"url(#clip3901)\" style=\"stroke:#000000; stroke-width:4; stroke-opacity:1; fill:none\" points=\"\n",
       "  1380.02,1503.47 1380.02,1481.63 \n",
       "  \"/>\n",
       "<polyline clip-path=\"url(#clip3901)\" style=\"stroke:#000000; stroke-width:4; stroke-opacity:1; fill:none\" points=\"\n",
       "  1932.76,1503.47 1932.76,1481.63 \n",
       "  \"/>\n",
       "<polyline clip-path=\"url(#clip3901)\" style=\"stroke:#000000; stroke-width:4; stroke-opacity:1; fill:none\" points=\"\n",
       "  214.919,1235.55 246.514,1235.55 \n",
       "  \"/>\n",
       "<polyline clip-path=\"url(#clip3901)\" style=\"stroke:#000000; stroke-width:4; stroke-opacity:1; fill:none\" points=\"\n",
       "  214.919,871.051 246.514,871.051 \n",
       "  \"/>\n",
       "<polyline clip-path=\"url(#clip3901)\" style=\"stroke:#000000; stroke-width:4; stroke-opacity:1; fill:none\" points=\"\n",
       "  214.919,506.552 246.514,506.552 \n",
       "  \"/>\n",
       "<polyline clip-path=\"url(#clip3901)\" style=\"stroke:#000000; stroke-width:4; stroke-opacity:1; fill:none\" points=\"\n",
       "  214.919,142.052 246.514,142.052 \n",
       "  \"/>\n",
       "<g clip-path=\"url(#clip3901)\">\n",
       "<text style=\"fill:#000000; fill-opacity:1; font-family:Arial,Helvetica Neue,Helvetica,sans-serif; font-size:48px; text-anchor:middle;\" transform=\"rotate(0, 274.532, 1557.47)\" x=\"274.532\" y=\"1557.47\">0</text>\n",
       "</g>\n",
       "<g clip-path=\"url(#clip3901)\">\n",
       "<text style=\"fill:#000000; fill-opacity:1; font-family:Arial,Helvetica Neue,Helvetica,sans-serif; font-size:48px; text-anchor:middle;\" transform=\"rotate(0, 827.276, 1557.47)\" x=\"827.276\" y=\"1557.47\">1000</text>\n",
       "</g>\n",
       "<g clip-path=\"url(#clip3901)\">\n",
       "<text style=\"fill:#000000; fill-opacity:1; font-family:Arial,Helvetica Neue,Helvetica,sans-serif; font-size:48px; text-anchor:middle;\" transform=\"rotate(0, 1380.02, 1557.47)\" x=\"1380.02\" y=\"1557.47\">2000</text>\n",
       "</g>\n",
       "<g clip-path=\"url(#clip3901)\">\n",
       "<text style=\"fill:#000000; fill-opacity:1; font-family:Arial,Helvetica Neue,Helvetica,sans-serif; font-size:48px; text-anchor:middle;\" transform=\"rotate(0, 1932.76, 1557.47)\" x=\"1932.76\" y=\"1557.47\">3000</text>\n",
       "</g>\n",
       "<g clip-path=\"url(#clip3901)\">\n",
       "<text style=\"fill:#000000; fill-opacity:1; font-family:Arial,Helvetica Neue,Helvetica,sans-serif; font-size:48px; text-anchor:end;\" transform=\"rotate(0, 190.919, 1253.05)\" x=\"190.919\" y=\"1253.05\">0.000</text>\n",
       "</g>\n",
       "<g clip-path=\"url(#clip3901)\">\n",
       "<text style=\"fill:#000000; fill-opacity:1; font-family:Arial,Helvetica Neue,Helvetica,sans-serif; font-size:48px; text-anchor:end;\" transform=\"rotate(0, 190.919, 888.551)\" x=\"190.919\" y=\"888.551\">0.005</text>\n",
       "</g>\n",
       "<g clip-path=\"url(#clip3901)\">\n",
       "<text style=\"fill:#000000; fill-opacity:1; font-family:Arial,Helvetica Neue,Helvetica,sans-serif; font-size:48px; text-anchor:end;\" transform=\"rotate(0, 190.919, 524.052)\" x=\"190.919\" y=\"524.052\">0.010</text>\n",
       "</g>\n",
       "<g clip-path=\"url(#clip3901)\">\n",
       "<text style=\"fill:#000000; fill-opacity:1; font-family:Arial,Helvetica Neue,Helvetica,sans-serif; font-size:48px; text-anchor:end;\" transform=\"rotate(0, 190.919, 159.552)\" x=\"190.919\" y=\"159.552\">0.015</text>\n",
       "</g>\n",
       "<polyline clip-path=\"url(#clip3903)\" style=\"stroke:#009af9; stroke-width:4; stroke-opacity:1; fill:none\" points=\"\n",
       "  274.532,1234.73 277.296,1235.15 280.06,1235.65 282.823,1236.14 285.587,1236.59 288.351,1237.05 291.114,1237.5 293.878,1237.9 296.642,1238.3 299.406,1238.67 \n",
       "  302.169,1239.01 304.933,1239.32 307.697,1239.61 310.46,1239.82 313.224,1239.98 315.988,1240.18 318.752,1240.3 321.515,1240.37 324.279,1240.44 327.043,1240.47 \n",
       "  329.807,1240.44 332.57,1240.49 335.334,1240.46 338.098,1240.39 340.861,1240.41 343.625,1240.42 346.389,1240.33 349.153,1240.28 351.916,1240.29 354.68,1240.24 \n",
       "  357.444,1240.15 360.207,1240.12 362.971,1240.03 365.735,1239.94 368.499,1239.95 371.262,1239.77 374.026,1239.57 376.79,1239.54 379.553,1239.41 382.317,1239.18 \n",
       "  385.081,1239.02 387.845,1238.91 390.608,1238.65 393.372,1238.48 396.136,1238.39 398.9,1238.14 401.663,1237.91 404.427,1237.76 407.191,1237.53 409.954,1237.23 \n",
       "  412.718,1237.03 415.482,1236.77 418.246,1236.55 421.009,1236.29 423.773,1235.97 426.537,1235.67 429.3,1235.44 432.064,1235.07 434.828,1234.73 437.592,1234.56 \n",
       "  440.355,1234.2 443.119,1233.82 445.883,1233.58 448.646,1233.28 451.41,1232.88 454.174,1232.54 456.938,1232.27 459.701,1231.87 462.465,1231.55 465.229,1231.22 \n",
       "  467.993,1230.84 470.756,1230.53 473.52,1230.19 476.284,1229.81 479.047,1229.56 481.811,1229.26 484.575,1228.92 487.339,1228.64 490.102,1228.34 492.866,1227.98 \n",
       "  495.63,1227.76 498.393,1227.54 501.157,1227.22 503.921,1226.94 506.685,1226.79 509.448,1226.53 512.212,1226.28 514.976,1226.16 517.739,1226.01 520.503,1225.74 \n",
       "  523.267,1225.62 526.031,1225.59 528.794,1225.47 531.558,1225.38 534.322,1225.41 537.085,1225.32 539.849,1225.3 542.613,1225.35 545.377,1225.4 548.14,1225.52 \n",
       "  550.904,1225.61 553.668,1225.67 556.432,1225.78 559.195,1226.04 561.959,1226.21 564.723,1226.42 567.486,1226.8 570.25,1227.07 573.014,1227.29 575.778,1227.73 \n",
       "  578.541,1228.13 581.305,1228.45 584.069,1228.94 586.832,1229.46 589.596,1229.85 592.36,1230.39 595.124,1231.04 597.887,1231.57 600.651,1232.22 603.415,1232.97 \n",
       "  606.178,1233.53 608.942,1234.19 611.706,1235.09 614.47,1235.83 617.233,1236.52 619.997,1237.49 622.761,1238.24 625.525,1239 628.288,1240.06 631.052,1240.99 \n",
       "  633.816,1241.75 636.579,1242.88 639.343,1243.96 642.107,1244.81 644.871,1245.94 647.634,1247 650.398,1247.9 653.162,1249.1 655.925,1250.36 658.689,1251.26 \n",
       "  661.453,1252.41 664.217,1253.76 666.98,1254.71 669.744,1255.8 672.508,1257.26 675.271,1258.24 678.035,1259.26 680.799,1260.78 683.563,1261.84 686.326,1262.72 \n",
       "  689.09,1264.3 691.854,1265.48 694.617,1266.25 697.381,1267.77 700.145,1269.07 702.909,1269.73 705.672,1271.1 708.436,1272.58 711.2,1273.13 713.964,1274.31 \n",
       "  716.727,1275.92 719.491,1276.32 722.255,1277.29 725.018,1279.1 727.782,1279.5 730.546,1280.08 733.31,1282.15 736.073,1282.6 738.837,1282.61 741.601,1284.84 \n",
       "  744.364,1285.5 747.128,1284.71 749.892,1287.17 752.656,1288.42 755.419,1286.4 758.183,1288.84 760.947,1291.45 763.71,1287.61 766.474,1289.57 769.238,1295.42 \n",
       "  772.002,1288.1 774.765,1287.7 777.529,1303.53 780.293,1286.43 783.057,1274.52 785.82,1347.21 788.584,1107.99 791.348,88.4582 794.111,672.141 796.875,615.577 \n",
       "  799.639,1279.71 802.403,968.372 805.166,810.924 807.93,1103.65 810.694,1462.26 813.457,1136.38 816.221,1212.71 818.985,1311.27 821.749,1364.9 824.512,1235.61 \n",
       "  827.276,1300.27 830.04,1291.17 832.803,1313.37 835.567,1262.24 838.331,1301.37 841.095,1277.19 843.858,1286.68 846.622,1286.63 849.386,1251.7 852.15,1291.64 \n",
       "  854.913,1264.17 857.677,1294.2 860.441,1295.67 863.204,1288.81 865.968,1297.75 868.732,1281.58 871.496,1263.33 874.259,1280.85 877.023,1269.9 879.787,1257.82 \n",
       "  882.55,1286.01 885.314,1283.14 888.078,1272.62 890.842,1272.93 893.605,1274.97 896.369,1280.07 899.133,1270.98 901.896,1279.07 904.66,1270.09 907.424,1266.59 \n",
       "  910.188,1253.37 912.951,1232.24 915.715,1263.55 918.479,1265.42 921.242,1227.28 924.006,1250.92 926.77,1263.44 929.534,1254.71 932.297,1256.83 935.061,1246.54 \n",
       "  937.825,1252.86 940.589,1247.41 943.352,1249.59 946.116,1253.35 948.88,1249.58 951.643,1243.68 954.407,1249.12 957.171,1251.5 959.935,1247.08 962.698,1244.77 \n",
       "  965.462,1240.9 968.226,1239.09 970.989,1242.5 973.753,1239.02 976.517,1234.65 979.281,1236.38 982.044,1241.4 984.808,1234.48 987.572,1238.1 990.335,1227.94 \n",
       "  993.099,1232.49 995.863,1232.64 998.627,1234.44 1001.39,1233.76 1004.15,1229.57 1006.92,1229.43 1009.68,1227.08 1012.45,1227.95 1015.21,1227.07 1017.97,1226.76 \n",
       "  1020.74,1227.17 1023.5,1226.72 1026.26,1228.52 1029.03,1229.37 1031.79,1229.09 1034.55,1224.67 1037.32,1226.13 1040.08,1226.92 1042.85,1227.29 1045.61,1226.41 \n",
       "  1048.37,1224.69 1051.14,1223.83 1053.9,1224.85 1056.66,1227.13 1059.43,1224.04 1062.19,1223.06 1064.96,1225.95 1067.72,1224.74 1070.48,1224.32 1073.25,1225.9 \n",
       "  1076.01,1221.51 1078.77,1225.51 1081.54,1298.03 1084.3,1274.41 1087.07,1214.67 1089.83,1220.5 1092.59,1228.8 1095.36,1230.08 1098.12,1226.67 1100.88,1222.14 \n",
       "  1103.65,1224.25 1106.41,1225.28 1109.18,1230.62 1111.94,1228.2 1114.7,1227.98 1117.47,1230.34 1120.23,1229.32 1122.99,1230.96 1125.76,1230.98 1128.52,1230.56 \n",
       "  1131.29,1230.82 1134.05,1230.28 1136.81,1229.24 1139.58,1232.94 1142.34,1231.28 1145.1,1234.77 1147.87,1232.65 1150.63,1232.97 1153.39,1235.59 1156.16,1233.69 \n",
       "  1158.92,1235.37 1161.69,1233.31 1164.45,1232.45 1167.21,1232.9 1169.98,1234.95 1172.74,1234.79 1175.5,1234.42 1178.27,1234.65 1181.03,1235.81 1183.8,1236.25 \n",
       "  1186.56,1236.11 1189.32,1236.75 1192.09,1235.96 1194.85,1237.18 1197.61,1237.16 1200.38,1237.6 1203.14,1237.47 1205.91,1236.97 1208.67,1237.82 1211.43,1238.03 \n",
       "  1214.2,1238.09 1216.96,1237.82 1219.72,1238.19 1222.49,1237.69 1225.25,1238.7 1228.02,1238.22 1230.78,1239.17 1233.54,1238.45 1236.31,1237.85 1239.07,1239.24 \n",
       "  1241.83,1239.48 1244.6,1238.52 1247.36,1238.75 1250.13,1239.09 1252.89,1238.62 1255.65,1238.85 1258.42,1238.65 1261.18,1238.93 1263.94,1239.71 1266.71,1237.89 \n",
       "  1269.47,1239.22 1272.23,1238.27 1275,1238.61 1277.76,1238.55 1280.53,1238.53 1283.29,1238.68 1286.05,1238.4 1288.82,1237.62 1291.58,1238.65 1294.34,1237.91 \n",
       "  1297.11,1238.36 1299.87,1237.93 1302.64,1238.11 1305.4,1237.69 1308.16,1237.57 1310.93,1238.02 1313.69,1237.23 1316.45,1237.55 1319.22,1236.97 1321.98,1237.26 \n",
       "  1324.75,1237.27 1327.51,1236.51 1330.27,1237.28 1333.04,1236.14 1335.8,1236.55 1338.56,1236.48 1341.33,1236.32 1344.09,1235.84 1346.86,1236.44 1349.62,1235.97 \n",
       "  1352.38,1235.69 1355.15,1235.82 1357.91,1235.75 1360.67,1235.57 1363.44,1235.7 1366.2,1235.46 1368.97,1235.31 1371.73,1234.94 1374.49,1235.77 1377.26,1234.68 \n",
       "  1380.02,1235.48 1382.78,1234.89 1385.55,1234.87 1388.31,1234.98 1391.07,1235.1 1393.84,1234.48 1396.6,1235.44 1399.37,1234.57 1402.13,1234.44 1404.89,1234.89 \n",
       "  1407.66,1236.13 1410.42,1235.4 1413.18,1233.09 1415.95,1234.27 1418.71,1234.88 1421.48,1234.43 1424.24,1234.79 1427,1234.52 1429.77,1234.76 1432.53,1234.56 \n",
       "  1435.29,1234.65 1438.06,1234.2 1440.82,1235.22 1443.59,1234.74 1446.35,1234.1 1449.11,1230.89 1451.88,1234.88 1454.64,1234.16 1457.4,1234.98 1460.17,1234.51 \n",
       "  1462.93,1234.61 1465.7,1234.95 1468.46,1235.02 1471.22,1234.85 1473.99,1235.09 1476.75,1235.03 1479.51,1234.93 1482.28,1235.09 1485.04,1235.4 1487.8,1234.79 \n",
       "  1490.57,1235.09 1493.33,1234.99 1496.1,1235.26 1498.86,1235.21 1501.62,1235.14 1504.39,1235.21 1507.15,1235.37 1509.91,1235.08 1512.68,1235.57 1515.44,1235.25 \n",
       "  1518.21,1235.4 1520.97,1235.24 1523.73,1235.52 1526.5,1235.42 1529.26,1235.43 1532.02,1235.44 1534.79,1235.44 1537.55,1235.34 1540.32,1235.47 1543.08,1235.52 \n",
       "  1545.84,1235.49 1548.61,1235.52 1551.37,1235.58 1554.13,1235.62 1556.9,1235.43 1559.66,1235.71 1562.43,1235.45 1565.19,1235.53 1567.95,1235.74 1570.72,1235.35 \n",
       "  1573.48,1235.64 1576.24,1235.75 1579.01,1235.71 1581.77,1235.29 1584.54,1235.89 1587.3,1235.4 1590.06,1235.71 1592.83,1235.52 1595.59,1235.71 1598.35,1235.55 \n",
       "  1601.12,1235.42 1603.88,1235.87 1606.64,1235.26 1609.41,1235.72 1612.17,1235.49 1614.94,1235.51 1617.7,1235.64 1620.46,1235.43 1623.23,1235.73 1625.99,1235.35 \n",
       "  1628.75,1235.6 1631.52,1235.5 1634.28,1235.69 1637.05,1235.41 1639.81,1235.79 1642.57,1234.29 1645.34,1235.81 1648.1,1235.46 1650.86,1235.37 1653.63,1235.69 \n",
       "  1656.39,1235.38 1659.16,1235.43 1661.92,1235.53 1664.68,1235.4 1667.45,1235.55 1670.21,1235.44 1672.97,1235.32 1675.74,1235.65 1678.5,1235.39 1681.27,1235.54 \n",
       "  1684.03,1235.43 1686.79,1235.51 1689.56,1235.48 1692.32,1235.46 1695.08,1235.51 1697.85,1235.46 1700.61,1235.6 1703.38,1235.39 1706.14,1235.62 1708.9,1235.57 \n",
       "  1711.67,1235.35 1714.43,1235.8 1717.19,1235.32 1719.96,1235.53 1722.72,1235.65 1725.48,1235.55 1728.25,1235.56 1731.01,1235.61 1733.78,1235.58 1736.54,1235.58 \n",
       "  1739.3,1235.65 1742.07,1235.55 1744.83,1235.63 1747.59,1235.58 1750.36,1235.66 1753.12,1235.7 1755.89,1235.81 1758.65,1235.56 1761.41,1235.7 1764.18,1235.73 \n",
       "  1766.94,1235.74 1769.7,1235.75 1772.47,1235.67 1775.23,1235.86 1778,1235.7 1780.76,1235.72 1783.52,1235.9 1786.29,1235.81 1789.05,1235.71 1791.81,1235.88 \n",
       "  1794.58,1235.7 1797.34,1235.83 1800.11,1235.8 1802.87,1235.73 1805.63,1235.98 1808.4,1235.74 1811.16,1235.85 1813.92,1235.85 1816.69,1235.84 1819.45,1235.88 \n",
       "  1822.22,1235.86 1824.98,1235.74 1827.74,1235.94 1830.51,1235.72 1833.27,1235.94 1836.03,1235.8 1838.8,1235.9 1841.56,1235.91 1844.32,1235.83 1847.09,1235.94 \n",
       "  1849.85,1235.74 1852.62,1235.94 1855.38,1235.81 1858.14,1235.79 1860.91,1235.88 1863.67,1235.83 1866.43,1235.9 1869.2,1235.71 1871.96,1235.96 1874.73,1235.7 \n",
       "  1877.49,1235.81 1880.25,1235.73 1883.02,1235.85 1885.78,1235.71 1888.54,1235.78 1891.31,1235.77 1894.07,1235.75 1896.84,1235.83 1899.6,1235.8 1902.36,1235.66 \n",
       "  1905.13,1235.76 1907.89,1235.64 1910.65,1235.56 1913.42,1235.7 1916.18,1235.72 1918.95,1235.46 1921.71,1235.83 1924.47,1235.45 1927.24,1235.55 1930,1235.52 \n",
       "  1932.76,1235.54 1935.53,1235.56 1938.29,1235.45 1941.05,1235.6 1943.82,1235.43 1946.58,1235.6 1949.35,1235.45 1952.11,1235.53 1954.87,1235.34 1957.64,1235.35 \n",
       "  1960.4,1235.41 1963.16,1235.35 1965.93,1235.34 1968.69,1235.32 1971.46,1235.29 1974.22,1235.44 1976.98,1235.15 1979.75,1235.4 1982.51,1235.23 1985.27,1235.21 \n",
       "  1988.04,1235.27 1990.8,1235.26 1993.57,1235.11 1996.33,1235.33 1999.09,1235.13 2001.86,1235.11 2004.62,1235.32 2007.38,1235.09 2010.15,1235.16 2012.91,1235.25 \n",
       "  2015.68,1234.96 2018.44,1235.35 2021.2,1234.97 2023.97,1235.18 2026.73,1235.02 2029.49,1235.15 2032.26,1235.16 2035.02,1234.96 2037.79,1235.17 2040.55,1235.13 \n",
       "  2043.31,1235 2046.08,1235.15 2048.84,1235.18 2051.6,1234.99 2054.37,1235.24 2057.13,1235.13 2059.89,1235.12 2062.66,1235.11 2065.42,1235.03 2068.19,1235.24 \n",
       "  2070.95,1235.08 2073.71,1235.08 2076.48,1235.17 2079.24,1235.15 2082,1235.17 2084.77,1235.07 2087.53,1235.09 2090.3,1235.22 2093.06,1235.1 2095.82,1235.26 \n",
       "  2098.59,1235.17 2101.35,1235.26 2104.11,1235.29 2106.88,1235.24 2109.64,1235.38 2112.41,1235.43 2115.17,1235.31 2117.93,1235.38 2120.7,1235.44 2123.46,1235.49 \n",
       "  2126.22,1235.4 2128.99,1235.61 2131.75,1235.5 2134.52,1235.65 2137.28,1235.64 2140.04,1235.53 2142.81,1235.72 2145.57,1235.64 2148.33,1235.84 2151.1,1235.81 \n",
       "  2153.86,1235.81 2156.63,1236.01 2159.39,1235.96 2162.15,1235.94 2164.92,1236.16 2167.68,1236.12 2170.44,1236.21 2173.21,1236.19 2175.97,1236.31 2178.73,1236.4 \n",
       "  2181.5,1236.44 2184.26,1236.51 2187.03,1236.58 2189.79,1236.74 2192.55,1236.97 2195.32,1236.96 2198.08,1237.17 2200.84,1237.11 2203.61,1237.24 2206.37,1237.27 \n",
       "  2209.14,1237.35 2211.9,1237.37 2214.66,1237.56 2217.43,1237.52 2220.19,1237.54 2222.95,1237.66 2225.72,1237.35 2228.48,1237.39 2231.25,1237.17 2234.01,1237.03 \n",
       "  2236.77,1236.77 2239.54,1236.52 2242.3,1236.32 2245.06,1235.91 2247.83,1235.67 2250.59,1235.24 2253.36,1234.89 2256.12,1234.49 2258.88,1234.13 2261.65,1233.69 \n",
       "  \n",
       "  \"/>\n",
       "<polygon clip-path=\"url(#clip3901)\" points=\"\n",
       "1958.43,251.724 2249.26,251.724 2249.26,130.764 1958.43,130.764 \n",
       "  \" fill=\"#ffffff\" fill-rule=\"evenodd\" fill-opacity=\"1\"/>\n",
       "<polyline clip-path=\"url(#clip3901)\" style=\"stroke:#000000; stroke-width:4; stroke-opacity:1; fill:none\" points=\"\n",
       "  1958.43,251.724 2249.26,251.724 2249.26,130.764 1958.43,130.764 1958.43,251.724 \n",
       "  \"/>\n",
       "<polyline clip-path=\"url(#clip3901)\" style=\"stroke:#009af9; stroke-width:4; stroke-opacity:1; fill:none\" points=\"\n",
       "  1982.43,191.244 2126.43,191.244 \n",
       "  \"/>\n",
       "<g clip-path=\"url(#clip3901)\">\n",
       "<text style=\"fill:#000000; fill-opacity:1; font-family:Arial,Helvetica Neue,Helvetica,sans-serif; font-size:48px; text-anchor:start;\" transform=\"rotate(0, 2150.43, 208.744)\" x=\"2150.43\" y=\"208.744\">y1</text>\n",
       "</g>\n",
       "</svg>\n"
      ]
     },
     "execution_count": 31,
     "metadata": {},
     "output_type": "execute_result"
    }
   ],
   "source": [
    "plotspan = 100;\n",
    "plot(tvec[1:plotspan:end], S.x[1:plotspan:end])"
   ]
  },
  {
   "cell_type": "code",
   "execution_count": null,
   "metadata": {},
   "outputs": [],
   "source": []
  }
 ],
 "metadata": {
  "@webio": {
   "lastCommId": null,
   "lastKernelId": null
  },
  "kernelspec": {
   "display_name": "Julia 1.1.0",
   "language": "julia",
   "name": "julia-1.1"
  },
  "language_info": {
   "file_extension": ".jl",
   "mimetype": "application/julia",
   "name": "julia",
   "version": "1.1.0"
  }
 },
 "nbformat": 4,
 "nbformat_minor": 2
}
