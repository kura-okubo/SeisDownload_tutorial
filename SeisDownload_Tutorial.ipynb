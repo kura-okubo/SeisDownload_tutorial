{
 "cells": [
  {
   "cell_type": "markdown",
   "metadata": {},
   "source": [
    "# SeisDownload Tutorial\n",
    "#### June 6 2019"
   ]
  },
  {
   "cell_type": "markdown",
   "metadata": {},
   "source": [
    "## Installation\n",
    "1. IJulia to run Julia with Jupyter notebook"
   ]
  },
  {
   "cell_type": "code",
   "execution_count": 1,
   "metadata": {},
   "outputs": [
    {
     "name": "stdout",
     "output_type": "stream",
     "text": [
      "\u001b[32m\u001b[1m  Updating\u001b[22m\u001b[39m registry at `~/.julia/registries/General`\n",
      "\u001b[32m\u001b[1m  Updating\u001b[22m\u001b[39m git-repo `https://github.com/JuliaRegistries/General.git`\n",
      "\u001b[?25l\u001b[2K\u001b[?25h\u001b[32m\u001b[1m Resolving\u001b[22m\u001b[39m package versions...\n",
      "\u001b[32m\u001b[1m  Updating\u001b[22m\u001b[39m `~/.julia/environments/v1.1/Project.toml`\n",
      "\u001b[90m [no changes]\u001b[39m\n",
      "\u001b[32m\u001b[1m  Updating\u001b[22m\u001b[39m `~/.julia/environments/v1.1/Manifest.toml`\n",
      "\u001b[90m [no changes]\u001b[39m\n"
     ]
    }
   ],
   "source": [
    "using Pkg; Pkg.add(\"IJulia\");"
   ]
  },
  {
   "cell_type": "markdown",
   "metadata": {},
   "source": [
    "2. Dependent packages"
   ]
  },
  {
   "cell_type": "code",
   "execution_count": 2,
   "metadata": {},
   "outputs": [
    {
     "name": "stdout",
     "output_type": "stream",
     "text": [
      "\u001b[32m\u001b[1m  Updating\u001b[22m\u001b[39m git-repo `https://github.com/jpjones76/SeisIO.jl`\n",
      "\u001b[?25l\u001b[2K\u001b[?25h\u001b[32m\u001b[1m Resolving\u001b[22m\u001b[39m package versions...\n",
      "\u001b[32m\u001b[1m  Updating\u001b[22m\u001b[39m `~/.julia/environments/v1.1/Project.toml`\n",
      "\u001b[90m [no changes]\u001b[39m\n",
      "\u001b[32m\u001b[1m  Updating\u001b[22m\u001b[39m `~/.julia/environments/v1.1/Manifest.toml`\n",
      "\u001b[90m [no changes]\u001b[39m\n",
      "\u001b[32m\u001b[1m Resolving\u001b[22m\u001b[39m package versions...\n",
      "\u001b[32m\u001b[1m  Updating\u001b[22m\u001b[39m `~/.julia/environments/v1.1/Project.toml`\n",
      "\u001b[90m [no changes]\u001b[39m\n",
      "\u001b[32m\u001b[1m  Updating\u001b[22m\u001b[39m `~/.julia/environments/v1.1/Manifest.toml`\n",
      "\u001b[90m [no changes]\u001b[39m\n"
     ]
    }
   ],
   "source": [
    "using Pkg; Pkg.pkg\"add https://github.com/jpjones76/SeisIO.jl;\";\n",
    "Pkg.add([\"Dates\", \"Distributed\", \"Printf\", \"JLD2\", \"FileIO\", \"Distributed\", \"ProgressMeter\"]);"
   ]
  },
  {
   "cell_type": "markdown",
   "metadata": {},
   "source": [
    "3. Obspy\n",
    "\n",
    "Follow the official instruction [Link](https://github.com/obspy/obspy/wiki/Installation-via-Anaconda).\n",
    "After installing anaconda with brew or other package manager (e.g. pyenv), type on terminal:\n",
    "> conda config --add channels conda-forge <br>\n",
    "conda create -n obspy python=3.7   # or e.g. python=2.7 <br>\n",
    "conda activate obspy  # this command used to be 'source activate obspy' on older conda versions < 4.4 <br>\n",
    "(obspy) conda install obspy\n",
    "\n",
    "**Use SeisDownload with activating obspy enviroment due to the dependency of resp removal for $\\beta$ version**  "
   ]
  },
  {
   "cell_type": "markdown",
   "metadata": {},
   "source": [
    "4. Pycall with obspy enviroment\n",
    "\n",
    "Firstly, type `which python` with obspy enviroment and copy the link to the python. \n",
    "\n",
    "(usually in $path-to-anaconda-package/anaconda3-5.x.x/envs/obspy/bin/python)\n",
    "\n",
    "Then,"
   ]
  },
  {
   "cell_type": "code",
   "execution_count": 3,
   "metadata": {},
   "outputs": [
    {
     "ename": "UndefVarError",
     "evalue": "UndefVarError: path not defined",
     "output_type": "error",
     "traceback": [
      "UndefVarError: path not defined",
      "",
      "Stacktrace:",
      " [1] top-level scope at In[3]:1"
     ]
    }
   ],
   "source": [
    "ENV[\"PYTHON\"] = \"$path-to-anaconda-package/anaconda3-5.x.x/envs/obspy/bin/python\"\n",
    "Pkg.build(\"PyCall\")"
   ]
  },
  {
   "cell_type": "markdown",
   "metadata": {},
   "source": [
    "You are now all set!"
   ]
  },
  {
   "cell_type": "markdown",
   "metadata": {},
   "source": [
    "## Example to donwload data"
   ]
  },
  {
   "cell_type": "code",
   "execution_count": 4,
   "metadata": {},
   "outputs": [
    {
     "name": "stderr",
     "output_type": "stream",
     "text": [
      "┌ Info: Recompiling stale cache file /Users/kurama/.julia/compiled/v1.1/SeisIO/P86QT.ji for SeisIO [b372bb87-02dd-52bb-bcf6-c30dd83fd342]\n",
      "└ @ Base loading.jl:1184\n"
     ]
    }
   ],
   "source": [
    "# with β version, please import SeisDownload.jl from the src directory as follows\n",
    "include(\"./src/SeisDownload.jl\")\n",
    "using .SeisDownload"
   ]
  },
  {
   "cell_type": "code",
   "execution_count": 5,
   "metadata": {},
   "outputs": [],
   "source": [
    "using SeisIO, Dates, Distributed\n",
    "\n",
    "#==================================================#\n",
    "# Input Parameters\n",
    "NP = 3 # number of processor\n",
    "DownloadType = \"Noise\" # Choise of \"Noise\" or \"Earthquake\"\n",
    "\n",
    "network     = [\"BP\"]\n",
    "station     = [\"LCCB\", \"MMNB\"]\n",
    "location    = [\"\"]\n",
    "channel     = [\"BP1\", \"BP2\"]\n",
    "datacenter  = \"FDSN\" #Data center\n",
    "src         = \"NCEDC\"\n",
    "\n",
    "# Time info for Noise case\n",
    "starttime   = DateTime(2004,9,28,16,0,0)\n",
    "endtime     = DateTime(2004,9,28,19,0,0)\n",
    "DL_time_unit = 3600 #3600 * 24 # Download tiem unit [s] more than one day is better to avoid artifacts of response removal\n",
    "\n",
    "pre_filt    = (0.001, 0.002, 10.0, 20.0) #prefilter tuple used obspy remove_response: taper between f1 and f2, f3 and f4 with obspy\n",
    "\n",
    "foname      = \"BPnetwork\"; # data is saved at ./dataset/$foname.jld2\n",
    "#==================================================#"
   ]
  },
  {
   "cell_type": "code",
   "execution_count": 6,
   "metadata": {},
   "outputs": [
    {
     "name": "stderr",
     "output_type": "stream",
     "text": [
      "WARNING: replacing module SeisDownload.\n"
     ]
    }
   ],
   "source": [
    "# allocate cpus\n",
    "addprocs(NP-1)\n",
    "\n",
    "@everywhere include(\"./src/SeisDownload.jl\")\n",
    "@everywhere include(\"./src/utils.jl\")\n",
    "#using SeisIO, Dates, SeisDownload\n",
    "@everywhere using .SeisDownload, .Utils"
   ]
  },
  {
   "cell_type": "code",
   "execution_count": 7,
   "metadata": {},
   "outputs": [
    {
     "data": {
      "text/plain": [
       "Dict{String,Any} with 7 entries:\n",
       "  \"pre_filt\"     => (0.001, 0.002, 10.0, 20.0)\n",
       "  \"stationinfo\"  => Dict(\"stationdatacenter\"=>[\"FDSN\", \"FDSN\", \"FDSN\", \"FDSN\"],…\n",
       "  \"DownloadType\" => \"Noise\"\n",
       "  \"starttime\"    => 2004-09-28T16:00:00\n",
       "  \"endtime\"      => 2004-09-28T19:00:00\n",
       "  \"fopath\"       => \"./dataset/BPnetwork.jld2\"\n",
       "  \"DL_time_unit\" => 3600"
      ]
     },
     "execution_count": 7,
     "metadata": {},
     "output_type": "execute_result"
    }
   ],
   "source": [
    "# store metadata in Dictionary\n",
    "# This can be customized by users\n",
    "\n",
    "stationlist       = String[]\n",
    "stationdatacenter = String[]\n",
    "stationsrc        = String[]\n",
    "for i=1:length(network)\n",
    "    for j=1:length(station)\n",
    "        for k=1:length(location)\n",
    "            for l=1:length(channel)\n",
    "                stationname = join([network[i], station[j], location[k], channel[l]], \".\")\n",
    "                push!(stationlist, stationname)\n",
    "\n",
    "                #Here should be improved for multiple seismic network; we have to make\n",
    "                #proper conbination of request station and data server.\n",
    "                push!(stationdatacenter, datacenter)\n",
    "                push!(stationsrc, src)\n",
    "            end\n",
    "        end\n",
    "    end\n",
    "end\n",
    "\n",
    "stationinfo = Dict([\"stationlist\" => stationlist, \"stationdatacenter\" => stationdatacenter, \"stationsrc\" => stationsrc])\n",
    "\n",
    "mkpath(\"./dataset\")\n",
    "fopath=(\"./dataset/\"*foname*\".jld2\")\n",
    "\n",
    "InputDictionary = Dict([\n",
    "      \"DownloadType\"=> DownloadType,\n",
    "      \"stationinfo\" => stationinfo,\n",
    "      \"starttime\"   => starttime,\n",
    "      \"endtime\"     => endtime,\n",
    "      \"DL_time_unit\"=> DL_time_unit,\n",
    "      \"pre_filt\"    => pre_filt,\n",
    "      \"fopath\"      => fopath\n",
    "    ])"
   ]
  },
  {
   "cell_type": "code",
   "execution_count": 8,
   "metadata": {},
   "outputs": [
    {
     "name": "stdout",
     "output_type": "stream",
     "text": [
      "\n",
      "\n",
      "      _____        _       _____                          _                    _\n",
      "     / ____|      (_)     |  __ \\                        | |                  | |\n",
      "    | (___    ___  _  ___ | |  | |  ___ __      __ _ __  | |  ___    __ _   __| |\n",
      "     \\___ \\  / _ \\| |/ __|| |  | | / _ \\\\ \\ /\\ / /| '_ \\ | | / _ \\  / _` | / _` |\n",
      "     ____) ||  __/| |\\__ \\| |__| || (_) |\\ V  V / | | | || || (_) || (_| || (_| |\n",
      "    |_____/  \\___||_||___/|_____/  \\___/  \\_/\\_/  |_| |_||_| \\___/  \\__,_| \\__,_|\n",
      "                      _         _  _\n",
      "                     | |       | |(_)           |\n",
      "    __      __       | | _   _ | | _   __ _     | v1.0 (Last update 06/06/2019)\n",
      "    \\ \\ /\\ / /   _   | || | | || || | / _` |    | © Kurama Okubo\n",
      "     \\ V  V /_  | |__| || |_| || || || (_| |    |\n",
      "      \\_/\\_/(_)  \\____/  \\__,_||_||_| \\__,_|    |\n",
      "\n",
      "Job start running at 2019-06-06T20:50:40.509\n",
      "\n",
      "Downloading and Saving data is successfully done.\n",
      "job ended at 2019-06-06T20:51:47.145\n"
     ]
    }
   ],
   "source": [
    "# mass request with input Dictionary\n",
    "SeisDownload.ParallelSeisrequest(NP, InputDictionary)"
   ]
  },
  {
   "cell_type": "markdown",
   "metadata": {},
   "source": [
    "Now downloaded dataset is in `./dataset`. The dataset is in SeisData format. Only instrumental response removal is applied on the data.\n",
    "\n",
    "### Plot results "
   ]
  },
  {
   "cell_type": "code",
   "execution_count": 9,
   "metadata": {},
   "outputs": [
    {
     "data": {
      "text/plain": [
       "JLDFile /Users/kurama/Documents/kurama/research/dev_SeisDownload/distributedcomputingtest/dataset/BPnetwork.jld2 (read-only)\n",
       " ├─📂 info\n",
       " │  ├─🔢 DLtimestamplist\n",
       " │  ├─🔢 stationlist\n",
       " │  ├─🔢 starttime\n",
       " │  ├─🔢 endtime\n",
       " │  └─🔢 DL_time_unit\n",
       " ├─📂 2004.272.T16:00:00\n",
       " │  ├─🔢 BP.LCCB..BP1\n",
       " │  ├─🔢 BP.LCCB..BP2\n",
       " │  ├─🔢 BP.MMNB..BP1\n",
       " │  └─🔢 BP.MMNB..BP2\n",
       " ├─📂 2004.272.T17:00:00\n",
       " │  ├─🔢 BP.LCCB..BP1\n",
       " │  ├─🔢 BP.LCCB..BP2\n",
       " │  ├─🔢 BP.MMNB..BP1\n",
       " │  └─🔢 BP.MMNB..BP2\n",
       " ├─📂 2004.272.T18:00:00\n",
       " │  ├─🔢 BP.LCCB..BP1\n",
       " │  ├─🔢 BP.LCCB..BP2\n",
       " │  ├─🔢 BP.MMNB..BP1\n",
       " │  └─🔢 BP.MMNB..BP2\n",
       " └─📂 2004.272.T19:00:00\n",
       "    ├─🔢 BP.LCCB..BP1\n",
       "    ├─🔢 BP.LCCB..BP2\n",
       "    ├─🔢 BP.MMNB..BP1\n",
       "    └─🔢 BP.MMNB..BP2"
      ]
     },
     "execution_count": 9,
     "metadata": {},
     "output_type": "execute_result"
    }
   ],
   "source": [
    "using JLD2, FileIO\n",
    "t = jldopen(\"./dataset/BPnetwork.jld2\")"
   ]
  },
  {
   "cell_type": "code",
   "execution_count": 24,
   "metadata": {},
   "outputs": [],
   "source": [
    "plotstationid = t[\"info/stationlist\"][1];\n",
    "plottimestamp = t[\"info/DLtimestamplist\"][3];"
   ]
  },
  {
   "cell_type": "code",
   "execution_count": 25,
   "metadata": {},
   "outputs": [
    {
     "data": {
      "text/plain": [
       "SeisChannel with 72000 samples\n",
       "    ID: BP.LCCB..BP1\n",
       "  NAME: Little Cholame Creek, Parkfield, CA, USA\n",
       "   LOC: 35.9801 N, -120.514 E, 637.0 m\n",
       "    FS: 20.0\n",
       "  GAIN: 7.18559e10\n",
       "  RESP: c = 1.0, 2 zeros, 2 poles\n",
       " UNITS: M/S\n",
       "   SRC: http://service.ncedc.org/fdsnws/dataselect/1/query\n",
       "  MISC: 2 entries\n",
       " NOTES: 1 entries\n",
       "     T: 2004-09-28T18:00:00.020 (0 gaps)    \n",
       "     X: +1.997e-06                          \n",
       "        +1.995e-06                          \n",
       "            ...                             \n",
       "        -1.307e-06                          \n",
       "        (nx = 72000)                        "
      ]
     },
     "execution_count": 25,
     "metadata": {},
     "output_type": "execute_result"
    }
   ],
   "source": [
    "S = t[joinpath(plottimestamp, plotstationid)]"
   ]
  },
  {
   "cell_type": "code",
   "execution_count": 26,
   "metadata": {},
   "outputs": [],
   "source": [
    "using Plots; gr()\n",
    "tvec = collect(0:S.t[2,1]-1) / S.fs;"
   ]
  },
  {
   "cell_type": "code",
   "execution_count": 27,
   "metadata": {},
   "outputs": [
    {
     "data": {
      "image/svg+xml": [
       "<?xml version=\"1.0\" encoding=\"utf-8\"?>\n",
       "<svg xmlns=\"http://www.w3.org/2000/svg\" xmlns:xlink=\"http://www.w3.org/1999/xlink\" width=\"600\" height=\"400\" viewBox=\"0 0 2400 1600\">\n",
       "<defs>\n",
       "  <clipPath id=\"clip2900\">\n",
       "    <rect x=\"0\" y=\"0\" width=\"2400\" height=\"1600\"/>\n",
       "  </clipPath>\n",
       "</defs>\n",
       "<polygon clip-path=\"url(#clip2900)\" points=\"\n",
       "0,1600 2400,1600 2400,0 0,0 \n",
       "  \" fill=\"#ffffff\" fill-rule=\"evenodd\" fill-opacity=\"1\"/>\n",
       "<defs>\n",
       "  <clipPath id=\"clip2901\">\n",
       "    <rect x=\"480\" y=\"0\" width=\"1681\" height=\"1600\"/>\n",
       "  </clipPath>\n",
       "</defs>\n",
       "<polygon clip-path=\"url(#clip2900)\" points=\"\n",
       "367.13,1487.47 2352.76,1487.47 2352.76,47.2441 367.13,47.2441 \n",
       "  \" fill=\"#ffffff\" fill-rule=\"evenodd\" fill-opacity=\"1\"/>\n",
       "<defs>\n",
       "  <clipPath id=\"clip2902\">\n",
       "    <rect x=\"367\" y=\"47\" width=\"1987\" height=\"1441\"/>\n",
       "  </clipPath>\n",
       "</defs>\n",
       "<polyline clip-path=\"url(#clip2902)\" style=\"stroke:#000000; stroke-width:2; stroke-opacity:0.1; fill:none\" points=\"\n",
       "  423.327,1487.47 423.327,47.2441 \n",
       "  \"/>\n",
       "<polyline clip-path=\"url(#clip2902)\" style=\"stroke:#000000; stroke-width:2; stroke-opacity:0.1; fill:none\" points=\"\n",
       "  944.393,1487.47 944.393,47.2441 \n",
       "  \"/>\n",
       "<polyline clip-path=\"url(#clip2902)\" style=\"stroke:#000000; stroke-width:2; stroke-opacity:0.1; fill:none\" points=\"\n",
       "  1465.46,1487.47 1465.46,47.2441 \n",
       "  \"/>\n",
       "<polyline clip-path=\"url(#clip2902)\" style=\"stroke:#000000; stroke-width:2; stroke-opacity:0.1; fill:none\" points=\"\n",
       "  1986.52,1487.47 1986.52,47.2441 \n",
       "  \"/>\n",
       "<polyline clip-path=\"url(#clip2902)\" style=\"stroke:#000000; stroke-width:2; stroke-opacity:0.1; fill:none\" points=\"\n",
       "  367.13,1253.99 2352.76,1253.99 \n",
       "  \"/>\n",
       "<polyline clip-path=\"url(#clip2902)\" style=\"stroke:#000000; stroke-width:2; stroke-opacity:0.1; fill:none\" points=\"\n",
       "  367.13,908.043 2352.76,908.043 \n",
       "  \"/>\n",
       "<polyline clip-path=\"url(#clip2902)\" style=\"stroke:#000000; stroke-width:2; stroke-opacity:0.1; fill:none\" points=\"\n",
       "  367.13,562.095 2352.76,562.095 \n",
       "  \"/>\n",
       "<polyline clip-path=\"url(#clip2902)\" style=\"stroke:#000000; stroke-width:2; stroke-opacity:0.1; fill:none\" points=\"\n",
       "  367.13,216.147 2352.76,216.147 \n",
       "  \"/>\n",
       "<polyline clip-path=\"url(#clip2900)\" style=\"stroke:#000000; stroke-width:4; stroke-opacity:1; fill:none\" points=\"\n",
       "  367.13,1487.47 2352.76,1487.47 \n",
       "  \"/>\n",
       "<polyline clip-path=\"url(#clip2900)\" style=\"stroke:#000000; stroke-width:4; stroke-opacity:1; fill:none\" points=\"\n",
       "  367.13,1487.47 367.13,47.2441 \n",
       "  \"/>\n",
       "<polyline clip-path=\"url(#clip2900)\" style=\"stroke:#000000; stroke-width:4; stroke-opacity:1; fill:none\" points=\"\n",
       "  423.327,1487.47 423.327,1465.87 \n",
       "  \"/>\n",
       "<polyline clip-path=\"url(#clip2900)\" style=\"stroke:#000000; stroke-width:4; stroke-opacity:1; fill:none\" points=\"\n",
       "  944.393,1487.47 944.393,1465.87 \n",
       "  \"/>\n",
       "<polyline clip-path=\"url(#clip2900)\" style=\"stroke:#000000; stroke-width:4; stroke-opacity:1; fill:none\" points=\"\n",
       "  1465.46,1487.47 1465.46,1465.87 \n",
       "  \"/>\n",
       "<polyline clip-path=\"url(#clip2900)\" style=\"stroke:#000000; stroke-width:4; stroke-opacity:1; fill:none\" points=\"\n",
       "  1986.52,1487.47 1986.52,1465.87 \n",
       "  \"/>\n",
       "<polyline clip-path=\"url(#clip2900)\" style=\"stroke:#000000; stroke-width:4; stroke-opacity:1; fill:none\" points=\"\n",
       "  367.13,1253.99 396.915,1253.99 \n",
       "  \"/>\n",
       "<polyline clip-path=\"url(#clip2900)\" style=\"stroke:#000000; stroke-width:4; stroke-opacity:1; fill:none\" points=\"\n",
       "  367.13,908.043 396.915,908.043 \n",
       "  \"/>\n",
       "<polyline clip-path=\"url(#clip2900)\" style=\"stroke:#000000; stroke-width:4; stroke-opacity:1; fill:none\" points=\"\n",
       "  367.13,562.095 396.915,562.095 \n",
       "  \"/>\n",
       "<polyline clip-path=\"url(#clip2900)\" style=\"stroke:#000000; stroke-width:4; stroke-opacity:1; fill:none\" points=\"\n",
       "  367.13,216.147 396.915,216.147 \n",
       "  \"/>\n",
       "<g clip-path=\"url(#clip2900)\">\n",
       "<text style=\"fill:#000000; fill-opacity:1; font-family:Arial,Helvetica Neue,Helvetica,sans-serif; font-size:48px; text-anchor:middle;\" transform=\"rotate(0, 423.327, 1541.47)\" x=\"423.327\" y=\"1541.47\">0</text>\n",
       "</g>\n",
       "<g clip-path=\"url(#clip2900)\">\n",
       "<text style=\"fill:#000000; fill-opacity:1; font-family:Arial,Helvetica Neue,Helvetica,sans-serif; font-size:48px; text-anchor:middle;\" transform=\"rotate(0, 944.393, 1541.47)\" x=\"944.393\" y=\"1541.47\">1000</text>\n",
       "</g>\n",
       "<g clip-path=\"url(#clip2900)\">\n",
       "<text style=\"fill:#000000; fill-opacity:1; font-family:Arial,Helvetica Neue,Helvetica,sans-serif; font-size:48px; text-anchor:middle;\" transform=\"rotate(0, 1465.46, 1541.47)\" x=\"1465.46\" y=\"1541.47\">2000</text>\n",
       "</g>\n",
       "<g clip-path=\"url(#clip2900)\">\n",
       "<text style=\"fill:#000000; fill-opacity:1; font-family:Arial,Helvetica Neue,Helvetica,sans-serif; font-size:48px; text-anchor:middle;\" transform=\"rotate(0, 1986.52, 1541.47)\" x=\"1986.52\" y=\"1541.47\">3000</text>\n",
       "</g>\n",
       "<g clip-path=\"url(#clip2900)\">\n",
       "<text style=\"fill:#000000; fill-opacity:1; font-family:Arial,Helvetica Neue,Helvetica,sans-serif; font-size:48px; text-anchor:end;\" transform=\"rotate(0, 343.13, 1271.49)\" x=\"343.13\" y=\"1271.49\">0</text>\n",
       "</g>\n",
       "<g clip-path=\"url(#clip2900)\">\n",
       "<text style=\"fill:#000000; fill-opacity:1; font-family:Arial,Helvetica Neue,Helvetica,sans-serif; font-size:48px; text-anchor:start;\" transform=\"rotate(0, 150.006, 931.77)\" x=\"150.006\" y=\"931.77\">5.0×10</text>\n",
       "</g>\n",
       "<g clip-path=\"url(#clip2900)\">\n",
       "<text style=\"fill:#000000; fill-opacity:1; font-family:Arial,Helvetica Neue,Helvetica,sans-serif; font-size:38px; text-anchor:start;\" transform=\"rotate(0, 298.546, 904.36)\" x=\"298.546\" y=\"904.36\">-</text>\n",
       "</g>\n",
       "<g clip-path=\"url(#clip2900)\">\n",
       "<text style=\"fill:#000000; fill-opacity:1; font-family:Arial,Helvetica Neue,Helvetica,sans-serif; font-size:38px; text-anchor:start;\" transform=\"rotate(0, 321.386, 904.36)\" x=\"321.386\" y=\"904.36\">6</text>\n",
       "</g>\n",
       "<g clip-path=\"url(#clip2900)\">\n",
       "<text style=\"fill:#000000; fill-opacity:1; font-family:Arial,Helvetica Neue,Helvetica,sans-serif; font-size:48px; text-anchor:start;\" transform=\"rotate(0, 150.006, 585.822)\" x=\"150.006\" y=\"585.822\">1.0×10</text>\n",
       "</g>\n",
       "<g clip-path=\"url(#clip2900)\">\n",
       "<text style=\"fill:#000000; fill-opacity:1; font-family:Arial,Helvetica Neue,Helvetica,sans-serif; font-size:38px; text-anchor:start;\" transform=\"rotate(0, 298.546, 558.412)\" x=\"298.546\" y=\"558.412\">-</text>\n",
       "</g>\n",
       "<g clip-path=\"url(#clip2900)\">\n",
       "<text style=\"fill:#000000; fill-opacity:1; font-family:Arial,Helvetica Neue,Helvetica,sans-serif; font-size:38px; text-anchor:start;\" transform=\"rotate(0, 321.386, 558.412)\" x=\"321.386\" y=\"558.412\">5</text>\n",
       "</g>\n",
       "<g clip-path=\"url(#clip2900)\">\n",
       "<text style=\"fill:#000000; fill-opacity:1; font-family:Arial,Helvetica Neue,Helvetica,sans-serif; font-size:48px; text-anchor:start;\" transform=\"rotate(0, 150.006, 239.874)\" x=\"150.006\" y=\"239.874\">1.5×10</text>\n",
       "</g>\n",
       "<g clip-path=\"url(#clip2900)\">\n",
       "<text style=\"fill:#000000; fill-opacity:1; font-family:Arial,Helvetica Neue,Helvetica,sans-serif; font-size:38px; text-anchor:start;\" transform=\"rotate(0, 298.546, 212.464)\" x=\"298.546\" y=\"212.464\">-</text>\n",
       "</g>\n",
       "<g clip-path=\"url(#clip2900)\">\n",
       "<text style=\"fill:#000000; fill-opacity:1; font-family:Arial,Helvetica Neue,Helvetica,sans-serif; font-size:38px; text-anchor:start;\" transform=\"rotate(0, 321.386, 212.464)\" x=\"321.386\" y=\"212.464\">5</text>\n",
       "</g>\n",
       "<polyline clip-path=\"url(#clip2902)\" style=\"stroke:#009af9; stroke-width:4; stroke-opacity:1; fill:none\" points=\"\n",
       "  423.327,1115.8 425.933,1138.28 428.538,1164.18 431.143,1190.5 433.749,1212.01 436.354,1275.68 438.959,1237.89 441.565,1303.02 444.17,1350.55 446.775,1269.43 \n",
       "  449.381,1399.05 451.986,1233 454.591,1442.84 457.197,1357.23 459.802,1302.77 462.407,1413.74 465.013,1354.93 467.618,1419.15 470.223,1300.44 472.828,1420.36 \n",
       "  475.434,1330.61 478.039,1407.63 480.644,1351.3 483.25,1322.38 485.855,1372.71 488.46,1333.98 491.066,1329.78 493.671,1389.38 496.276,1291.58 498.882,1253.6 \n",
       "  501.487,1192.24 504.092,1192.32 506.698,1423.89 509.303,1288.68 511.908,1199.29 514.514,1366.34 517.119,1227.53 519.724,1278.07 522.33,1318.29 524.935,1050.71 \n",
       "  527.54,1293.31 530.146,1267.83 532.751,1216.54 535.356,1346.98 537.962,1191.99 540.567,1427.63 543.172,1240.03 545.778,1188.04 548.383,1278.44 550.988,877.273 \n",
       "  553.594,1372.59 556.199,1174.12 558.804,1321.85 561.41,1252.27 564.015,1171.24 566.62,1289.56 569.226,1230.55 571.831,809.102 574.436,1249.01 577.042,1100.54 \n",
       "  579.647,1274.51 582.252,1202.22 584.858,1266.57 587.463,1288.95 590.068,1166.48 592.674,1374.18 595.279,1198.95 597.884,1292.5 600.49,1262.94 603.095,1274.27 \n",
       "  605.7,1306.82 608.306,1266.37 610.911,1346.55 613.516,1185.6 616.122,1390.22 618.727,1227.95 621.332,1325.29 623.938,1273.76 626.543,1190.04 629.148,1258.78 \n",
       "  631.754,1217.58 634.359,1191.92 636.964,1278.19 639.57,1138.88 642.175,1287.55 644.78,1131.84 647.386,1354.33 649.991,1104.38 652.596,1241.67 655.202,1293.37 \n",
       "  657.807,1113.29 660.412,1403.08 663.018,1138.19 665.623,1297.35 668.228,1255.81 670.834,1255.04 673.439,1280.45 676.044,1254.67 678.65,1334.3 681.255,1115.4 \n",
       "  683.86,1417.76 686.465,1108.59 689.071,1305.54 691.676,1283.37 694.281,1272.38 696.887,1281.49 699.492,1300.75 702.097,1255.56 704.703,1224.6 707.308,1174.82 \n",
       "  709.913,1198.71 712.519,1203.39 715.124,1234.4 717.729,1286.92 720.335,1203.22 722.94,1258.94 725.545,1208.7 728.151,88.0053 730.756,826.997 733.361,1145.52 \n",
       "  735.967,1194.32 738.572,1286.5 741.177,1161.28 743.783,1246.41 746.388,1254.56 748.993,1185.52 751.599,1234.89 754.204,1243.05 756.809,1243.89 759.415,1298.47 \n",
       "  762.02,1239.32 764.625,1402.3 767.231,1186.77 769.836,1288.1 772.441,1300.7 775.047,1218.55 777.652,1349.36 780.257,1298.65 782.863,1270.72 785.468,1281.56 \n",
       "  788.073,1301.46 790.679,1275.92 793.284,1247.96 795.889,1268.27 798.495,1182.69 801.1,1325.44 803.705,1302.92 806.311,1218.94 808.916,1423.75 811.521,1285 \n",
       "  814.127,1250.45 816.732,1254.53 819.337,1227.83 821.943,1279.31 824.548,1241.49 827.153,1275.08 829.759,1241.44 832.364,1237.08 834.969,1118.05 837.575,1317.21 \n",
       "  840.18,1174.78 842.785,1336.11 845.391,1165.38 847.996,1308.84 850.601,1272.57 853.207,1185.15 855.812,1286.52 858.417,1301 861.023,1127.94 863.628,1301.81 \n",
       "  866.233,1299.74 868.839,1126.18 871.444,1297.06 874.049,1197.38 876.655,1245.56 879.26,1327.83 881.865,1261.78 884.471,1327.68 887.076,1404.8 889.681,1215.28 \n",
       "  892.287,1434.8 894.892,1274.88 897.497,1323.59 900.102,1384.24 902.708,1233.14 905.313,1391.53 907.918,1360 910.524,1318.89 913.129,1374.31 915.734,1346.93 \n",
       "  918.34,1313.6 920.945,1418.59 923.55,1402.69 926.156,1311.3 928.761,1404.73 931.366,1374.86 933.972,1361.18 936.577,1385.48 939.182,1356.78 941.788,1292.74 \n",
       "  944.393,1437.61 946.998,1311.3 949.604,1389.59 952.209,1275.4 954.814,1134.93 957.42,1172.74 960.025,1068.29 962.63,1267.44 965.236,1201.01 967.841,1113.15 \n",
       "  970.446,1216.66 973.052,1162.03 975.657,1116.98 978.262,1260.91 980.868,1063.58 983.473,1103.18 986.078,1199.57 988.684,1097.33 991.289,1151.58 993.894,1193.58 \n",
       "  996.5,1102.11 999.105,1273.11 1001.71,1050.57 1004.32,1192.65 1006.92,1231.83 1009.53,1119.05 1012.13,1240.53 1014.74,1194.1 1017.34,1192.38 1019.95,1259.18 \n",
       "  1022.55,1229.25 1025.16,1234.06 1027.76,1198.38 1030.37,1195.83 1032.97,1163.35 1035.58,1218.77 1038.18,1235.19 1040.79,1219.88 1043.4,1269.48 1046,1239.88 \n",
       "  1048.61,1274.12 1051.21,1221.32 1053.82,1291.9 1056.42,1190.75 1059.03,1267.61 1061.63,1257.94 1064.24,1256.48 1066.84,1277.77 1069.45,1232.26 1072.05,1425.68 \n",
       "  1074.66,1213.63 1077.26,1297.09 1079.87,1337.47 1082.48,1206.46 1085.08,1290.55 1087.69,1260.76 1090.29,1221.78 1092.9,1305.62 1095.5,1244.21 1098.11,1314.04 \n",
       "  1100.71,1297.65 1103.32,1298.88 1105.92,1245.27 1108.53,1261.63 1111.13,1242.59 1113.74,1277.95 1116.34,1289.89 1118.95,1212.92 1121.56,1295.13 1124.16,1259.63 \n",
       "  1126.77,1276.6 1129.37,1254.13 1131.98,1346.1 1134.58,1201.58 1137.19,1281.91 1139.79,1216.3 1142.4,1276.88 1145,1177.31 1147.61,1283.07 1150.21,1197.67 \n",
       "  1152.82,1251.05 1155.42,1307.67 1158.03,1219.05 1160.64,1305.72 1163.24,1273.62 1165.85,1276.15 1168.45,1245.04 1171.06,1293.43 1173.66,1250.32 1176.27,1299.77 \n",
       "  1178.87,1244.38 1181.48,1288.31 1184.08,1264.85 1186.69,1196.44 1189.29,1247.04 1191.9,1230.26 1194.5,1293.46 1197.11,1295.23 1199.72,1209.48 1202.32,1277.19 \n",
       "  1204.93,1301.83 1207.53,1215.55 1210.14,1260.58 1212.74,1312.34 1215.35,1256.5 1217.95,1213.76 1220.56,1281.83 1223.16,1321.37 1225.77,1259.78 1228.37,1271.53 \n",
       "  1230.98,1262.93 1233.58,1286.27 1236.19,1265.12 1238.8,1289.4 1241.4,1289.38 1244.01,1264.31 1246.61,1305.58 1249.22,1356.81 1251.82,1217.32 1254.43,1257.06 \n",
       "  1257.03,1235.71 1259.64,1220.27 1262.24,1228.29 1264.85,1242.89 1267.45,1200.15 1270.06,1260.48 1272.66,1214.94 1275.27,1274.54 1277.88,1286.4 1280.48,1254.21 \n",
       "  1283.09,1252.74 1285.69,1252.16 1288.3,1177.54 1290.9,1265.65 1293.51,1252.31 1296.11,1280.52 1298.72,1255.32 1301.32,1286.27 1303.93,1200.95 1306.53,1321.88 \n",
       "  1309.14,1163.53 1311.74,1340 1314.35,1214.67 1316.96,1204.41 1319.56,1298.24 1322.17,1229.95 1324.77,1297.04 1327.38,1290.52 1329.98,1172.47 1332.59,1262.59 \n",
       "  1335.19,1099.72 1337.8,1252.58 1340.4,1258.35 1343.01,1239.7 1345.61,1217.98 1348.22,1246.12 1350.82,1216.37 1353.43,1294.45 1356.04,1260.96 1358.64,1203.78 \n",
       "  1361.25,1301.14 1363.85,1229.17 1366.46,1211.62 1369.06,1306.84 1371.67,1178.6 1374.27,1313.06 1376.88,1220.28 1379.48,1310.44 1382.09,1293 1384.69,1299.28 \n",
       "  1387.3,1227.55 1389.9,1347.97 1392.51,1253.18 1395.12,1244.6 1397.72,1251.6 1400.33,1221.29 1402.93,1285.9 1405.54,1201.4 1408.14,1325.71 1410.75,1224.13 \n",
       "  1413.35,1230.81 1415.96,1207.39 1418.56,1274.98 1421.17,1216.36 1423.77,1201.81 1426.38,1284.88 1428.98,1226.68 1431.59,1276.77 1434.19,1341.4 1436.8,1298.37 \n",
       "  1439.41,1220.28 1442.01,1288.58 1444.62,1175.71 1447.22,1239.01 1449.83,1271.52 1452.43,1240.03 1455.04,1234.4 1457.64,1250.95 1460.25,1262.92 1462.85,1262.82 \n",
       "  1465.46,1370.13 1468.06,1294.5 1470.67,1193.84 1473.27,1244.5 1475.88,1246.76 1478.49,1253.35 1481.09,1251.83 1483.7,1265.46 1486.3,1218.89 1488.91,1231.25 \n",
       "  1491.51,1221.95 1494.12,1313.17 1496.72,1219.91 1499.33,1245.84 1501.93,1266.92 1504.54,1257.57 1507.14,1243.86 1509.75,1256.04 1512.35,1232.21 1514.96,1178.99 \n",
       "  1517.57,1139.14 1520.17,1181.26 1522.78,1242.44 1525.38,1235.24 1527.99,1301.84 1530.59,1291.72 1533.2,1287.31 1535.8,1256.43 1538.41,1269.52 1541.01,1248.34 \n",
       "  1543.62,1272.08 1546.22,1265.33 1548.83,1262.54 1551.43,1311.88 1554.04,1263.55 1556.65,1274.34 1559.25,1347.89 1561.86,1253.12 1564.46,1263.68 1567.07,1266.02 \n",
       "  1569.67,1322.15 1572.28,1264.23 1574.88,1243.88 1577.49,1229.6 1580.09,1265.85 1582.7,1160.29 1585.3,1268.63 1587.91,1195.89 1590.51,1306.99 1593.12,1302.67 \n",
       "  1595.73,1297.73 1598.33,1268.96 1600.94,1259.18 1603.54,1281.61 1606.15,1303.78 1608.75,1273.76 1611.36,1292.43 1613.96,1202.42 1616.57,1250.36 1619.17,1291.23 \n",
       "  1621.78,1270.13 1624.38,1146.26 1626.99,1234.37 1629.59,1291.08 1632.2,1259.95 1634.81,1262.43 1637.41,1217.76 1640.02,1248.35 1642.62,1271.48 1645.23,1302.03 \n",
       "  1647.83,1262.74 1650.44,1238.42 1653.04,1249.19 1655.65,1239.35 1658.25,1266.47 1660.86,1270.49 1663.46,1328.29 1666.07,1258.91 1668.67,1225.64 1671.28,1239.46 \n",
       "  1673.89,1253.31 1676.49,1261.34 1679.1,1277.49 1681.7,1225.96 1684.31,1297.12 1686.91,1293.34 1689.52,1256.9 1692.12,1278.82 1694.73,1292.61 1697.33,1241.87 \n",
       "  1699.94,1251.35 1702.54,1271.85 1705.15,1174.66 1707.75,1201.2 1710.36,1253.73 1712.97,1213.77 1715.57,1250.25 1718.18,1165.21 1720.78,1293.9 1723.39,1316.7 \n",
       "  1725.99,1286.92 1728.6,1293.57 1731.2,1241.77 1733.81,1308.75 1736.41,1305.98 1739.02,1259.98 1741.62,1235.81 1744.23,1309.4 1746.83,1235.6 1749.44,1238.05 \n",
       "  1752.05,1260.81 1754.65,1255.67 1757.26,1228.92 1759.86,1251.67 1762.47,1261.44 1765.07,1202.59 1767.68,1218.99 1770.28,1179.19 1772.89,1274.31 1775.49,1290.6 \n",
       "  1778.1,1220.1 1780.7,1205.34 1783.31,1247.38 1785.91,1227.02 1788.52,1218.6 1791.13,1269.85 1793.73,1207.46 1796.34,1214.09 1798.94,1188.11 1801.55,1194.37 \n",
       "  1804.15,1302.91 1806.76,1234.72 1809.36,1273.36 1811.97,1282.64 1814.57,1262.76 1817.18,1203.06 1819.78,1257.24 1822.39,1286.94 1824.99,1219.73 1827.6,1298.5 \n",
       "  1830.21,1295.15 1832.81,1303.76 1835.42,1446.71 1838.02,1098.41 1840.63,1294.25 1843.23,1267.7 1845.84,1233.1 1848.44,1284.04 1851.05,1288.4 1853.65,1276.96 \n",
       "  1856.26,1305.04 1858.86,1304.76 1861.47,1341.46 1864.07,1260.36 1866.68,1278.29 1869.28,1222.27 1871.89,1279.22 1874.5,1295.96 1877.1,1252.54 1879.71,1268.79 \n",
       "  1882.31,1255.71 1884.92,1241.05 1887.52,1315.3 1890.13,1254.37 1892.73,1264.81 1895.34,1258.23 1897.94,1256.7 1900.55,1212.91 1903.15,1250.57 1905.76,1258.07 \n",
       "  1908.36,1218.32 1910.97,1212.15 1913.58,1240.83 1916.18,1282.37 1918.79,1231.65 1921.39,1223.89 1924,1245.63 1926.6,1251.95 1929.21,1196.25 1931.81,1216.6 \n",
       "  1934.42,1252.25 1937.02,1297.12 1939.63,1268.18 1942.23,1320.78 1944.84,1236.64 1947.44,1230 1950.05,1224.71 1952.66,1194.34 1955.26,1225.57 1957.87,1184.85 \n",
       "  1960.47,1197.35 1963.08,1248.85 1965.68,1189.77 1968.29,1264.53 1970.89,1206.57 1973.5,1211.02 1976.1,1229.83 1978.71,1236.33 1981.31,1272.18 1983.92,1310.81 \n",
       "  1986.52,1237.18 1989.13,1244.81 1991.74,1253.39 1994.34,1237.49 1996.95,1274.82 1999.55,1264.1 2002.16,1241.9 2004.76,1296.87 2007.37,1297.59 2009.97,1284.29 \n",
       "  2012.58,1229 2015.18,1282.8 2017.79,1352.92 2020.39,1272.42 2023,1297.42 2025.6,1326.83 2028.21,1217.24 2030.82,1276.87 2033.42,1259.74 2036.03,1304.21 \n",
       "  2038.63,1245.01 2041.24,1215.17 2043.84,1243.93 2046.45,1300.66 2049.05,1354.84 2051.66,1312.77 2054.26,1282.33 2056.87,1269.44 2059.47,1269.74 2062.08,1256.2 \n",
       "  2064.68,1266.67 2067.29,1248.96 2069.9,1253.93 2072.5,1210.81 2075.11,1264.97 2077.71,1227.26 2080.32,1195.42 2082.92,1240.91 2085.53,1263.12 2088.13,1271.12 \n",
       "  2090.74,1219.97 2093.34,1291.9 2095.95,1304.24 2098.55,1248.15 2101.16,1206.28 2103.76,1238.31 2106.37,1294.71 2108.98,1275.48 2111.58,1272.34 2114.19,1243.62 \n",
       "  2116.79,1238.35 2119.4,1254.28 2122,1271.2 2124.61,1256.97 2127.21,1280.35 2129.82,1269.54 2132.42,1319.48 2135.03,1358.18 2137.63,1358.56 2140.24,1302.01 \n",
       "  2142.84,1242.87 2145.45,1250.92 2148.06,1278.42 2150.66,1217.66 2153.27,1228.83 2155.87,1283.03 2158.48,1194.34 2161.08,1267.95 2163.69,1277.25 2166.29,1255.03 \n",
       "  2168.9,1252.61 2171.5,1235.38 2174.11,1246.24 2176.71,1216.67 2179.32,1224.51 2181.92,1230.95 2184.53,1253.55 2187.14,1209.1 2189.74,1213.68 2192.35,1239.06 \n",
       "  2194.95,1201.06 2197.56,1268.71 2200.16,1262.02 2202.77,1172.46 2205.37,1196.59 2207.98,1216.94 2210.58,1297.03 2213.19,1359.71 2215.79,1228.43 2218.4,1176.7 \n",
       "  2221,1264.66 2223.61,1184.76 2226.22,1254.91 2228.82,1215.04 2231.43,1179.19 2234.03,1195.63 2236.64,1215.09 2239.24,1181.39 2241.85,1200.73 2244.45,1206.18 \n",
       "  2247.06,1115.06 2249.66,1210.35 2252.27,1187.89 2254.87,1152.95 2257.48,1152.82 2260.08,1129.74 2262.69,1111.61 2265.3,1184.35 2267.9,1173.29 2270.51,1193.61 \n",
       "  2273.11,1216.36 2275.72,1202.19 2278.32,1239.94 2280.93,1273.93 2283.53,1289.71 2286.14,1297.59 2288.74,1292.18 2291.35,1286.43 2293.95,1323.26 2296.56,1328.43 \n",
       "  \n",
       "  \"/>\n",
       "<polygon clip-path=\"url(#clip2900)\" points=\"\n",
       "1989.93,251.724 2280.76,251.724 2280.76,130.764 1989.93,130.764 \n",
       "  \" fill=\"#ffffff\" fill-rule=\"evenodd\" fill-opacity=\"1\"/>\n",
       "<polyline clip-path=\"url(#clip2900)\" style=\"stroke:#000000; stroke-width:4; stroke-opacity:1; fill:none\" points=\"\n",
       "  1989.93,251.724 2280.76,251.724 2280.76,130.764 1989.93,130.764 1989.93,251.724 \n",
       "  \"/>\n",
       "<polyline clip-path=\"url(#clip2900)\" style=\"stroke:#009af9; stroke-width:4; stroke-opacity:1; fill:none\" points=\"\n",
       "  2013.93,191.244 2157.93,191.244 \n",
       "  \"/>\n",
       "<g clip-path=\"url(#clip2900)\">\n",
       "<text style=\"fill:#000000; fill-opacity:1; font-family:Arial,Helvetica Neue,Helvetica,sans-serif; font-size:48px; text-anchor:start;\" transform=\"rotate(0, 2181.93, 208.744)\" x=\"2181.93\" y=\"208.744\">y1</text>\n",
       "</g>\n",
       "</svg>\n"
      ]
     },
     "execution_count": 27,
     "metadata": {},
     "output_type": "execute_result"
    }
   ],
   "source": [
    "plotspan = 100;\n",
    "plot(tvec[1:plotspan:end], S.x[1:plotspan:end])"
   ]
  },
  {
   "cell_type": "code",
   "execution_count": null,
   "metadata": {},
   "outputs": [],
   "source": []
  }
 ],
 "metadata": {
  "@webio": {
   "lastCommId": null,
   "lastKernelId": null
  },
  "kernelspec": {
   "display_name": "Julia 1.1.1",
   "language": "julia",
   "name": "julia-1.1"
  },
  "language_info": {
   "file_extension": ".jl",
   "mimetype": "application/julia",
   "name": "julia",
   "version": "1.1.1"
  }
 },
 "nbformat": 4,
 "nbformat_minor": 2
}
